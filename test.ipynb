{
 "cells": [
  {
   "cell_type": "markdown",
   "id": "de64b0dc",
   "metadata": {},
   "source": [
    "# Командная работа\n",
    "#### Работали: Столяров Артём, Собко Артём"
   ]
  },
  {
   "cell_type": "markdown",
   "id": "c8f6068b",
   "metadata": {},
   "source": [
    "\n",
    "\n",
    "### Описание признаков \n",
    "\n",
    "| Признак             | Описание                                                                 |\n",
    "|---------------------|--------------------------------------------------------------------------|\n",
    "| `type`              | Тип недвижимости (например, жилая, коммерческая).                        |\n",
    "| `sub_type`          | Подтип недвижимости (например, квартира, вилла, пентхаус).               |\n",
    "| `start_date`        | Дата, когда объявление появилось на рынке.                               |\n",
    "| `end_date`          | Дата, когда объявление было снято с рынка (или \"Not expired\").            |\n",
    "| `listing_type`      | Тип объявления: продажа (`Sale`) или аренда (`Rent`).                    |\n",
    "| `tom`               | Время выхода на рынок (Time On Market) — сколько объект находится в продаже/аренде. |\n",
    "| `building_age`      | Возраст здания (в годах).                                                |\n",
    "| `total_floor_count` | Общее количество этажей в здании.                                        |\n",
    "| `room_count`        | Количество комнат в объекте.                                             |\n",
    "| `size`              | Площадь объекта (в м²).                                                  |\n",
    "| `address`           | Адрес расположения объекта.                                              |\n",
    "| `furnished`         | Наличие мебели (удалён из анализа).                                      |\n",
    "| `price_currency`    | Валюта цены (TRY, USD, EUR — конвертируется в TRY).                      |\n",
    "| `floor_no`          | Номер этажа (с нормализацией: цоколь → 0, земля → 1, и т.д.).            |\n",
    "| `price`             | Цена объекта (в TRY после конвертации).                                  |\n",
    "| `heating_type`      | Тип системы отопления (кодируется в числовые категории).                 |\n",
    "\n"
   ]
  },
  {
   "cell_type": "code",
   "execution_count": 237,
   "id": "dec83bde",
   "metadata": {},
   "outputs": [],
   "source": [
    "import numpy as np\n",
    "import pandas as pd\n",
    "import matplotlib.pyplot as plt\n",
    "import seaborn as sns\n",
    "from sklearn.model_selection import train_test_split\n",
    "from sklearn.preprocessing import LabelEncoder\n",
    "from sklearn.ensemble import (\n",
    "    BaggingRegressor,\n",
    "    StackingRegressor,\n",
    "    GradientBoostingRegressor,\n",
    "    RandomForestRegressor,\n",
    "    BaggingClassifier,\n",
    "    GradientBoostingClassifier,\n",
    "    RandomForestClassifier,\n",
    "    StackingClassifier,\n",
    "    HistGradientBoostingClassifier\n",
    ")\n",
    "from sklearn.tree import DecisionTreeRegressor, DecisionTreeClassifier\n",
    "from sklearn.linear_model import LinearRegression, LogisticRegression\n",
    "from sklearn.metrics import mean_absolute_error, mean_squared_error, r2_score, accuracy_score, classification_report\n",
    "import warnings\n",
    "warnings.filterwarnings('ignore')"
   ]
  },
  {
   "cell_type": "markdown",
   "id": "8e30c7f9",
   "metadata": {},
   "source": [
    "####  Загрузка датафрейма"
   ]
  },
  {
   "cell_type": "code",
   "execution_count": 238,
   "id": "423f895f",
   "metadata": {},
   "outputs": [],
   "source": [
    "df = pd.read_csv('real_estate_data.csv', sep=',')"
   ]
  },
  {
   "cell_type": "markdown",
   "id": "5567358f",
   "metadata": {},
   "source": [
    "####  Предобработка данных"
   ]
  },
  {
   "cell_type": "code",
   "execution_count": 239,
   "id": "4ab174f0",
   "metadata": {},
   "outputs": [],
   "source": [
    "df = df.drop('furnished', axis=1)\n",
    "\n",
    "df['end_date'] = df['end_date'].fillna(\"Not expired\")\n",
    "\n",
    "df['total_floor_count'] = df['total_floor_count'].replace({\n",
    "    '10-20 arası': 15,\n",
    "    '20 ve üzeri': 30\n",
    "})\n",
    "df['total_floor_count'] = pd.to_numeric(df['total_floor_count'], errors='coerce')\n",
    "df['total_floor_count'].fillna(round(df['total_floor_count'].mean()), inplace=True)\n",
    "df['total_floor_count'] = df['total_floor_count'].astype(int)"
   ]
  },
  {
   "cell_type": "code",
   "execution_count": 240,
   "metadata": {},
   "outputs": [],
   "source": [
    "floor_mapping = {\n",
    "    'Bodrum Kat': 0,\n",
    "    'Bahçe katı': 1,\n",
    "    'Müstakil': 1,\n",
    "    'Yüksek Giriş': 1,\n",
    "    'Zemin Kat': 1,\n",
    "    'Kot 2': 1,\n",
    "    'Giriş Katı': 1,\n",
    "    'Kot 4': 2,\n",
    "    'Kot 1': 1,\n",
    "    'Kot 3': 1,\n",
    "    '20 ve üzeri': 25,\n",
    "    'Komple': 25,\n",
    "    'En Üst Kat': 30,  \n",
    "    'Çatı Katı': 30,   \n",
    "    'Asma Kat': 30,\n",
    "    'Teras Kat': 30\n",
    "}\n",
    "df['floor_no'] = df['floor_no'].replace(floor_mapping)\n",
    "df['floor_no'] = pd.to_numeric(df['floor_no'], errors='coerce')\n",
    "df['floor_no'].fillna(round(df['floor_no'].mean()), inplace=True)\n",
    "df['floor_no'] = df['floor_no'].astype(int)"
   ]
  },
  {
   "cell_type": "code",
   "execution_count": 241,
   "id": "d19c0a6b",
   "metadata": {},
   "outputs": [],
   "source": [
    "age_mapping = {\n",
    "    '6-10 arası': 8,\n",
    "    '11-15 arası': 13,\n",
    "    '16-20 arası': 18,\n",
    "    '21-25 arası': 23,\n",
    "    '26-30 arası': 28,\n",
    "    '31-35 arası': 33,\n",
    "    '36-40 arası': 38,\n",
    "    '40 ve üzeri': 50\n",
    "}\n",
    "df['building_age'] = df['building_age'].replace(age_mapping)\n",
    "df['building_age'] = pd.to_numeric(df['building_age'], errors='coerce')\n",
    "df['building_age'].fillna(round(df['building_age'].mean()), inplace=True)\n",
    "df['building_age'] = df['building_age'].astype(int)"
   ]
  },
  {
   "cell_type": "code",
   "execution_count": 242,
   "id": "46963cd8",
   "metadata": {},
   "outputs": [],
   "source": [
    "def to_try(row):\n",
    "    if row['price_currency'] == 'EUR':\n",
    "        return round(row['price'] * 48, 2)\n",
    "    elif row['price_currency'] == 'USD':\n",
    "        return round(row['price'] * 41, 2)\n",
    "    else:\n",
    "        return round(row['price'], 2)\n",
    "\n",
    "if 'price_currency' in df.columns and 'price' in df.columns:\n",
    "    df['price'] = df.apply(to_try, axis=1)\n",
    "    df['price_currency'] = 'TRY'  \n",
    "\n",
    "df['price'] = pd.to_numeric(df['price'], errors='coerce')\n",
    "df['price'] = df['price'].clip(lower=0)\n",
    "df['price'].fillna(df['price'].mean(), inplace=True)\n",
    "df['price'] = df['price'].astype(int)"
   ]
  },
  {
   "cell_type": "code",
   "execution_count": 243,
   "id": "3d196160",
   "metadata": {},
   "outputs": [],
   "source": [
    "\n",
    "df['room_count'] = df['room_count'].replace('+', None)\n",
    "mode_val = df['room_count'].mode()\n",
    "if not mode_val.empty:\n",
    "    df['room_count'].fillna(mode_val[0], inplace=True)\n"
   ]
  },
  {
   "cell_type": "code",
   "execution_count": 244,
   "id": "3ac074a9",
   "metadata": {},
   "outputs": [],
   "source": [
    "df['size'] = pd.to_numeric(df['size'], errors='coerce')\n",
    "df['size'] = df['size'].apply(lambda x: round(df['size'].mean()) if pd.notna(x) and x > 500 else x)\n",
    "df['size'].fillna(round(df['size'].mean()), inplace=True)\n",
    "df['size'] = df['size'].astype(int)"
   ]
  },
  {
   "cell_type": "code",
   "execution_count": 245,
   "id": "f0782a68",
   "metadata": {},
   "outputs": [],
   "source": [
    "for col in ['heating_type', 'price_currency']:\n",
    "    mode_val = df[col].mode()\n",
    "    if not mode_val.empty:\n",
    "        df[col].fillna(mode_val[0], inplace=True)\n"
   ]
  },
  {
   "cell_type": "code",
   "execution_count": 246,
   "id": "b9ad5f0e",
   "metadata": {},
   "outputs": [],
   "source": [
    "df['start_date'] = pd.to_datetime(df['start_date'], errors='coerce')\n",
    "df['end_date'] = pd.to_datetime(df['end_date'], errors='coerce')\n"
   ]
  },
  {
   "cell_type": "code",
   "execution_count": 247,
   "id": "6b326c73",
   "metadata": {},
   "outputs": [],
   "source": [
    "categorical_mappings = {\n",
    "    'type': {'Konut': 'Housing'},\n",
    "    'sub_type': {'Daire': 'Flat'},\n",
    "    'listing_type': {1: 'Sale', 2: 'Rent'}, \n",
    "    'price_currency': {'TL': 'TRY', 'USD': 'USD', 'EUR': 'EUR'}\n",
    "}\n",
    "\n",
    "for col, mapping in categorical_mappings.items():\n",
    "    if col in df.columns:\n",
    "        df[col] = df[col].replace(mapping)"
   ]
  },
  {
   "cell_type": "code",
   "execution_count": 248,
   "id": "e9f6a0ee",
   "metadata": {},
   "outputs": [],
   "source": [
    "df['sub_type'] = pd.Categorical(df['sub_type']).codes\n",
    "\n",
    "if (df['sub_type'] == -1).any():\n",
    "    mode_val = df['sub_type'][df['sub_type'] != -1].mode()\n",
    "    if not mode_val.empty:\n",
    "        df['sub_type'] = df['sub_type'].replace(-1, mode_val[0])\n",
    "df['sub_type'] = df['sub_type'].astype(int)"
   ]
  },
  {
   "cell_type": "code",
   "execution_count": 249,
   "id": "26ce2126",
   "metadata": {},
   "outputs": [],
   "source": [
    "heating_mapping = {\n",
    "    'Yok': 0,\n",
    "    'Soba (Kömür)': 1,\n",
    "    'Soba (Doğalgaz)': 2,\n",
    "    'Kalorifer (Kömür)': 3,\n",
    "    'Kalorifer (Doğalgaz)': 4,\n",
    "    'Kalorifer (Akaryakıt)': 5,\n",
    "    'Kombi (Doğalgaz)': 6,\n",
    "    'Kombi (Elektrikli)': 7,\n",
    "    'Kat Kaloriferi': 8,\n",
    "    'Merkezi Sistem': 9,\n",
    "    'Merkezi Sistem (Isı Payı Ölçer)': 10,\n",
    "    'Yerden Isıtma': 11,\n",
    "    'Klima': 12,\n",
    "    'Fancoil': 13,\n",
    "    'Güneş Enerjisi': 14,\n",
    "    'Jeotermal': 15\n",
    "}\n",
    "df['heating_type'] = df['heating_type'].map(heating_mapping)\n",
    "\n",
    "if df['heating_type'].isnull().any():\n",
    "    mode_val = df['heating_type'].mode()\n",
    "    if not mode_val.empty:\n",
    "        df['heating_type'].fillna(mode_val[0], inplace=True)\n",
    "df['heating_type'] = df['heating_type'].astype(int)"
   ]
  },
  {
   "cell_type": "code",
   "execution_count": 250,
   "id": "1eeba029",
   "metadata": {},
   "outputs": [],
   "source": [
    "# сохранение для дальнейшей работы\n",
    "df.to_csv('real_estate_data_fix.csv', index=False)"
   ]
  },
  {
   "cell_type": "markdown",
   "id": "c64655c3",
   "metadata": {},
   "source": [
    "## Регрессия"
   ]
  },
  {
   "cell_type": "code",
   "execution_count": 251,
   "metadata": {},
   "outputs": [],
   "source": [
    "drop_cols = [\n",
    "    'id', 'address', 'start_date', 'end_date', 'tom', 'building_age',\n",
    "    'type', 'price_currency', 'furnished', 'price_per_sqm', 'listing_type'\n",
    "]\n",
    "X = df.drop(columns=[col for col in drop_cols if col in df.columns])\n",
    "\n",
    "y = df['price']\n",
    "\n",
    "encoders_reg = {}\n",
    "cat_cols = X.select_dtypes(include=['object']).columns\n",
    "\n",
    "for col in cat_cols:\n",
    "    le = LabelEncoder()\n",
    "    X[col] = X[col].fillna('Unknown').astype(str)\n",
    "    X[col] = le.fit_transform(X[col])\n",
    "    encoders_reg[col] = le\n",
    "\n",
    "X_train, X_test, y_train, y_test = train_test_split(X, y, test_size=0.2, random_state=42)\n",
    "\n",
    "def metricsf(y_true, y_pred):\n",
    "    mae = mean_absolute_error(y_true, y_pred)\n",
    "    rmse = np.sqrt(mean_squared_error(y_true, y_pred))\n",
    "    r2 = r2_score(y_true, y_pred)\n",
    "    print(f\"средняя абсолютная ошибка = {mae:.2f}, средняя квадратичная ошибка = {rmse:.2f}, коэфф. дисперсии = {r2:.4f}\")"
   ]
  },
  {
   "cell_type": "markdown",
   "id": "6b281c12",
   "metadata": {},
   "source": [
    "### Стекинг регрессор"
   ]
  },
  {
   "cell_type": "code",
   "execution_count": 252,
   "id": "8b987948",
   "metadata": {},
   "outputs": [
    {
     "name": "stdout",
     "output_type": "stream",
     "text": [
      "средняя абсолютная ошибка = 57201.49, средняя квадратичная ошибка = 2625989.23, коэфф. дисперсии = 0.9154\n"
     ]
    }
   ],
   "source": [
    "stacking_model = StackingRegressor(\n",
    "    estimators=[\n",
    "        ('dt', RandomForestRegressor(random_state=42)),\n",
    "        ('rf', BaggingRegressor(n_estimators=100, random_state=42, n_jobs=-1)),\n",
    "        ('gb', GradientBoostingRegressor(n_estimators=100, random_state=42))\n",
    "    ],\n",
    "    final_estimator=LinearRegression(),\n",
    "    n_jobs=-1\n",
    ")\n",
    "stacking_model.fit(X_train, y_train)\n",
    "y_pred_stack = stacking_model.predict(X_test)\n",
    "metricsf(y_test, y_pred_stack)"
   ]
  },
  {
   "cell_type": "markdown",
   "id": "b1ed552b",
   "metadata": {},
   "source": [
    "### Беггинг регрессор"
   ]
  },
  {
   "cell_type": "code",
   "execution_count": 253,
   "id": "f12a6220",
   "metadata": {},
   "outputs": [
    {
     "name": "stdout",
     "output_type": "stream",
     "text": [
      "средняя абсолютная ошибка = 13894.00, средняя квадратичная ошибка = 2741725.02, коэфф. дисперсии = 0.9078\n"
     ]
    }
   ],
   "source": [
    "bagging_model = BaggingRegressor(\n",
    "    estimator=DecisionTreeRegressor(random_state=42),\n",
    "    n_estimators=10,\n",
    "    random_state=42,\n",
    "    n_jobs=-1\n",
    ")\n",
    "bagging_model.fit(X_train, y_train)\n",
    "y_pred_bag = bagging_model.predict(X_test)\n",
    "metricsf(y_test, y_pred_bag)\n",
    "\n"
   ]
  },
  {
   "cell_type": "markdown",
   "id": "ca6a3d59",
   "metadata": {},
   "source": [
    "### Бустинг регрессор"
   ]
  },
  {
   "cell_type": "code",
   "execution_count": 254,
   "id": "eb3f9545",
   "metadata": {},
   "outputs": [
    {
     "name": "stdout",
     "output_type": "stream",
     "text": [
      "средняя абсолютная ошибка = 14454.01, средняя квадратичная ошибка = 2609356.66, коэфф. дисперсии = 0.9165\n"
     ]
    }
   ],
   "source": [
    "boosting_model = GradientBoostingRegressor(\n",
    "    n_estimators=100,\n",
    "    learning_rate=0.1,\n",
    "    max_depth=6,\n",
    "    random_state=42\n",
    ")\n",
    "boosting_model.fit(X_train, y_train)\n",
    "y_pred_boost = boosting_model.predict(X_test)\n",
    "metricsf(y_test, y_pred_boost)"
   ]
  },
  {
   "cell_type": "code",
   "execution_count": null,
   "id": "bcb113f4",
   "metadata": {},
   "outputs": [],
   "source": [
    "_X = df.drop(columns=['sub_type', 'id', 'start_date', 'end_date', 'address'])\n",
    "_y = df['sub_type']\n",
    "\n",
    "X_train_clf, X_test_clf, y_train_clf, y_test_clf = train_test_split(_X, _y, test_size=0.2, random_state=42)\n",
    "\n",
    "# кодировка целевой переменной\n",
    "le_y = LabelEncoder()\n",
    "y_train_clf = le_y.fit_transform(y_train_clf)\n",
    "y_test_clf = le_y.transform(y_test_clf)\n",
    "\n",
    "categorical_columns = [\n",
    "    'location',\n",
    "    'heating_type',  \n",
    "    'price_currency',\n",
    "    'room_count',\n",
    "    'listing_type',\n",
    "    'type',\n",
    "    'tom'\n",
    "]\n",
    "\n",
    "clf_encoders = {}\n",
    "cat_cols_clf = [col for col in categorical_columns if col in _X.columns]\n",
    "\n",
    "# кодировка признаков\n",
    "for col in cat_cols_clf:\n",
    "\n",
    "    combined = pd.concat([X_train_clf[col], X_test_clf[col]], ignore_index=True).fillna('Unknown').astype(str)\n",
    "    all_categories = combined.unique()\n",
    "\n",
    "    X_train_clf[col] = pd.Categorical(\n",
    "        X_train_clf[col].fillna('Unknown').astype(str),\n",
    "        categories=all_categories\n",
    "    ).codes\n",
    "    \n",
    "    X_test_clf[col] = pd.Categorical(\n",
    "        X_test_clf[col].fillna('Unknown').astype(str),\n",
    "        categories=all_categories\n",
    "    ).codes"
   ]
  },
  {
   "cell_type": "markdown",
   "id": "66abb0d9",
   "metadata": {},
   "source": [
    "## Классификация"
   ]
  },
  {
   "cell_type": "markdown",
   "id": "56649239",
   "metadata": {},
   "source": [
    "### Стекинг классификатор"
   ]
  },
  {
   "cell_type": "code",
   "execution_count": 256,
   "id": "da5e6bb2",
   "metadata": {},
   "outputs": [
    {
     "name": "stdout",
     "output_type": "stream",
     "text": [
      "acc score: 0.9209\n",
      "              precision    recall  f1-score   support\n",
      "\n",
      "           0       0.94      0.99      0.97     71061\n",
      "           1       0.72      0.37      0.49       514\n",
      "           2       0.00      0.00      0.00        13\n",
      "           3       0.00      0.00      0.00        58\n",
      "           4       0.00      0.00      0.00         3\n",
      "           5       0.60      0.25      0.35      1916\n",
      "           6       0.94      0.71      0.81       145\n",
      "           7       0.73      0.15      0.25      1509\n",
      "           8       0.65      0.69      0.67      4231\n",
      "           9       0.00      0.00      0.00        37\n",
      "          10       0.34      0.08      0.13      1108\n",
      "          11       0.47      0.16      0.23       103\n",
      "\n",
      "    accuracy                           0.92     80698\n",
      "   macro avg       0.45      0.28      0.33     80698\n",
      "weighted avg       0.91      0.92      0.91     80698\n",
      "\n"
     ]
    }
   ],
   "source": [
    "stacking_model_clf = StackingClassifier(\n",
    "    estimators=[\n",
    "        ('rf', RandomForestClassifier(n_estimators=10, max_depth=4, random_state=42)),\n",
    "        ('gb', HistGradientBoostingClassifier(max_iter=100,learning_rate=0.1,max_depth=6,random_state=42)),\n",
    "        ('dt', DecisionTreeClassifier(max_depth=2, random_state=42))\n",
    "    ],\n",
    "    final_estimator=LogisticRegression(max_iter=1000, random_state=42, n_jobs=-1),\n",
    "    n_jobs=-1,\n",
    "    cv=2  \n",
    ")\n",
    "stacking_model_clf.fit(X_train_clf, y_train_clf)\n",
    "y_pred_stack_clf = stacking_model_clf.predict(X_test_clf)\n",
    "\n",
    "print(f\"acc score: {accuracy_score(y_test_clf, y_pred_stack_clf):.4f}\")\n",
    "print(classification_report(y_test_clf, y_pred_stack_clf))\n",
    "\n"
   ]
  },
  {
   "cell_type": "markdown",
   "id": "26d3ab2d",
   "metadata": {},
   "source": [
    "### Бустинг классификатор"
   ]
  },
  {
   "cell_type": "code",
   "execution_count": 257,
   "id": "e8d90370",
   "metadata": {},
   "outputs": [
    {
     "name": "stdout",
     "output_type": "stream",
     "text": [
      "acc score: 0.9176\n",
      "              precision    recall  f1-score   support\n",
      "\n",
      "           0       0.94      0.99      0.96     71061\n",
      "           1       0.68      0.44      0.53       514\n",
      "           2       0.00      0.00      0.00        13\n",
      "           3       0.28      0.31      0.30        58\n",
      "           4       0.00      0.00      0.00         3\n",
      "           5       0.66      0.20      0.31      1916\n",
      "           6       0.86      0.86      0.86       145\n",
      "           7       0.73      0.17      0.28      1509\n",
      "           8       0.68      0.62      0.65      4231\n",
      "           9       0.03      0.08      0.05        37\n",
      "          10       0.50      0.01      0.01      1108\n",
      "          11       0.24      0.20      0.22       103\n",
      "\n",
      "    accuracy                           0.92     80698\n",
      "   macro avg       0.47      0.32      0.35     80698\n",
      "weighted avg       0.90      0.92      0.90     80698\n",
      "\n"
     ]
    }
   ],
   "source": [
    "boosting_model_clf = HistGradientBoostingClassifier(\n",
    "   max_iter=100,learning_rate=0.1,max_depth=6,random_state=42\n",
    ")\n",
    "boosting_model_clf.fit(X_train_clf, y_train_clf)\n",
    "y_pred_boost_clf = boosting_model_clf.predict(X_test_clf)\n",
    "print(f\"acc score: {accuracy_score(y_test_clf, y_pred_boost_clf):.4f}\")\n",
    "print(classification_report(y_test_clf, y_pred_boost_clf))"
   ]
  },
  {
   "cell_type": "markdown",
   "id": "ea05b432",
   "metadata": {},
   "source": [
    "### Беггинг классификатор"
   ]
  },
  {
   "cell_type": "code",
   "execution_count": 258,
   "id": "f90bfadd",
   "metadata": {},
   "outputs": [
    {
     "name": "stdout",
     "output_type": "stream",
     "text": [
      "acc score: 0.9412\n",
      "              precision    recall  f1-score   support\n",
      "\n",
      "           0       0.97      0.99      0.98     71061\n",
      "           1       0.80      0.64      0.71       514\n",
      "           2       0.88      0.54      0.67        13\n",
      "           3       0.72      0.59      0.65        58\n",
      "           4       0.50      0.33      0.40         3\n",
      "           5       0.67      0.48      0.56      1916\n",
      "           6       0.92      0.92      0.92       145\n",
      "           7       0.78      0.43      0.55      1509\n",
      "           8       0.74      0.79      0.76      4231\n",
      "           9       0.74      0.38      0.50        37\n",
      "          10       0.58      0.35      0.44      1108\n",
      "          11       0.79      0.41      0.54       103\n",
      "\n",
      "    accuracy                           0.94     80698\n",
      "   macro avg       0.76      0.57      0.64     80698\n",
      "weighted avg       0.94      0.94      0.94     80698\n",
      "\n"
     ]
    }
   ],
   "source": [
    "bagging_model_clf = BaggingClassifier(\n",
    "    estimator=DecisionTreeClassifier(random_state=42),\n",
    "    n_estimators=100,\n",
    "    random_state=42,\n",
    "    n_jobs=-1\n",
    ")\n",
    "bagging_model_clf.fit(X_train_clf, y_train_clf)\n",
    "y_pred_bag_clf = bagging_model_clf.predict(X_test_clf)\n",
    "print(f\"acc score: {accuracy_score(y_test_clf, y_pred_bag_clf):.4f}\")\n",
    "print(classification_report(y_test_clf, y_pred_bag_clf))"
   ]
  },
  {
   "cell_type": "code",
   "execution_count": 259,
   "id": "d78c1575",
   "metadata": {},
   "outputs": [
    {
     "data": {
      "text/plain": [
       "['target_encoder_subtype.joblib']"
      ]
     },
     "execution_count": 259,
     "metadata": {},
     "output_type": "execute_result"
    }
   ],
   "source": [
    "from joblib import dump\n",
    "\n",
    "# регрессия \n",
    "dump(stacking_model, 'stacking_regressor_price.joblib')\n",
    "dump(encoders_reg, 'regression_encoders.joblib')\n",
    "dump(list(X.columns), 'regression_features.joblib')\n",
    "\n",
    "# классификация\n",
    "dump(stacking_model_clf, 'stacking_classifier_subtype.joblib')\n",
    "dump(clf_encoders, 'classification_encoders.joblib')\n",
    "dump(list(_X.columns), 'classification_features.joblib')\n",
    "dump(le_y, 'target_encoder_subtype.joblib')"
   ]
  }
 ],
 "metadata": {
  "kernelspec": {
   "display_name": "base",
   "language": "python",
   "name": "python3"
  },
  "language_info": {
   "codemirror_mode": {
    "name": "ipython",
    "version": 3
   },
   "file_extension": ".py",
   "mimetype": "text/x-python",
   "name": "python",
   "nbconvert_exporter": "python",
   "pygments_lexer": "ipython3",
   "version": "3.12.2"
  }
 },
 "nbformat": 4,
 "nbformat_minor": 5
}
